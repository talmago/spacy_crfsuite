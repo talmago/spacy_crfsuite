{
 "cells": [
  {
   "cell_type": "markdown",
   "metadata": {},
   "source": [
    "test"
   ]
  },
  {
   "cell_type": "code",
   "execution_count": 1,
   "metadata": {},
   "outputs": [
    {
     "data": {
      "text/markdown": [
       "## restaurant_search\n",
       "- i'm looking for a place to eat\n",
       "- I want to grab lunch\n",
       "- I am searching for a dinner spot\n",
       "- i'm looking for a place in the [north](location) of town\n",
       "- show me [chinese](cuisine) restaurants\n",
       "- show me [chines](cuisine:chinese) restaurants in the [north](location)\n",
       "- show me a [mexican](cuisine) place in the [centre](location)\n",
       "- i am looking for an [indian](cuisine) spot called olaolaolaolaolaola\n",
       "- search for restaurants\n",
       "- anywhere in the [west](location)\n",
       "- anywhere near [18328](location)\n",
       "- I am looking for [asian fusion](cuisine) food\n",
       "- I am looking a restaurant in [29432](location)\n",
       "- I am looking for [mexican indian fusion](cuisine)\n",
       "- [central](location) [indian](cuisine) restaurant"
      ],
      "text/plain": [
       "<IPython.core.display.Markdown object>"
      ]
     },
     "metadata": {},
     "output_type": "display_data"
    }
   ],
   "source": [
    "from IPython.display import display, Markdown\n",
    "\n",
    "with open(\"example.md\", \"r\") as f:\n",
    "    display(Markdown(f.read()))"
   ]
  },
  {
   "cell_type": "code",
   "execution_count": null,
   "metadata": {},
   "outputs": [],
   "source": []
  },
  {
   "cell_type": "code",
   "execution_count": 2,
   "metadata": {},
   "outputs": [
    {
     "data": {
      "text/plain": [
       "[{'text': \"i'm looking for a place to eat\", 'entities': []},\n",
       " {'text': 'I want to grab lunch', 'entities': []},\n",
       " {'text': 'I am searching for a dinner spot', 'entities': []},\n",
       " {'text': \"i'm looking for a place in the north of town\",\n",
       "  'entities': [{'start': 31,\n",
       "    'end': 36,\n",
       "    'value': 'north',\n",
       "    'entity': 'location'}]},\n",
       " {'text': 'show me chinese restaurants',\n",
       "  'entities': [{'start': 8,\n",
       "    'end': 15,\n",
       "    'value': 'chinese',\n",
       "    'entity': 'cuisine'}]},\n",
       " {'text': 'show me chines restaurants in the north',\n",
       "  'entities': [{'start': 8,\n",
       "    'end': 14,\n",
       "    'value': 'chinese',\n",
       "    'entity': 'cuisine'},\n",
       "   {'start': 34, 'end': 39, 'value': 'north', 'entity': 'location'}]},\n",
       " {'text': 'show me a mexican place in the centre',\n",
       "  'entities': [{'start': 10,\n",
       "    'end': 17,\n",
       "    'value': 'mexican',\n",
       "    'entity': 'cuisine'},\n",
       "   {'start': 31, 'end': 37, 'value': 'centre', 'entity': 'location'}]},\n",
       " {'text': 'i am looking for an indian spot called olaolaolaolaolaola',\n",
       "  'entities': [{'start': 20,\n",
       "    'end': 26,\n",
       "    'value': 'indian',\n",
       "    'entity': 'cuisine'}]},\n",
       " {'text': 'search for restaurants', 'entities': []},\n",
       " {'text': 'anywhere in the west',\n",
       "  'entities': [{'start': 16,\n",
       "    'end': 20,\n",
       "    'value': 'west',\n",
       "    'entity': 'location'}]},\n",
       " {'text': 'anywhere near 18328',\n",
       "  'entities': [{'start': 14,\n",
       "    'end': 19,\n",
       "    'value': '18328',\n",
       "    'entity': 'location'}]},\n",
       " {'text': 'I am looking for asian fusion food',\n",
       "  'entities': [{'start': 17,\n",
       "    'end': 29,\n",
       "    'value': 'asian fusion',\n",
       "    'entity': 'cuisine'}]},\n",
       " {'text': 'I am looking a restaurant in 29432',\n",
       "  'entities': [{'start': 29,\n",
       "    'end': 34,\n",
       "    'value': '29432',\n",
       "    'entity': 'location'}]},\n",
       " {'text': 'I am looking for mexican indian fusion',\n",
       "  'entities': [{'start': 17,\n",
       "    'end': 38,\n",
       "    'value': 'mexican indian fusion',\n",
       "    'entity': 'cuisine'}]},\n",
       " {'text': 'central indian restaurant',\n",
       "  'entities': [{'start': 0,\n",
       "    'end': 7,\n",
       "    'value': 'central',\n",
       "    'entity': 'location'},\n",
       "   {'start': 8, 'end': 14, 'value': 'indian', 'entity': 'cuisine'}]}]"
      ]
     },
     "execution_count": 2,
     "metadata": {},
     "output_type": "execute_result"
    }
   ],
   "source": [
    "from spacy_crfsuite.dataset import read_file\n",
    "\n",
    "train_data = read_file(\"example.md\")\n",
    "train_data"
   ]
  },
  {
   "cell_type": "code",
   "execution_count": null,
   "metadata": {},
   "outputs": [],
   "source": []
  },
  {
   "cell_type": "code",
   "execution_count": null,
   "metadata": {},
   "outputs": [],
   "source": []
  },
  {
   "cell_type": "code",
   "execution_count": null,
   "metadata": {},
   "outputs": [],
   "source": []
  },
  {
   "cell_type": "code",
   "execution_count": 3,
   "metadata": {},
   "outputs": [
    {
     "data": {
      "text/plain": [
       "<spacy_crfsuite.crf_extractor.CRFExtractor at 0x11dee7d30>"
      ]
     },
     "execution_count": 3,
     "metadata": {},
     "output_type": "execute_result"
    }
   ],
   "source": [
    "from spacy_crfsuite.crf_extractor import CRFExtractor\n",
    "from spacy_crfsuite.dataset import create_dataset\n",
    "\n",
    "train_dataset = create_dataset(train_data)\n",
    "crf_extractor = CRFExtractor({\"c1\": 0.01, \"c2\": 0.06})\n",
    "crf_extractor.train(train_dataset)"
   ]
  },
  {
   "cell_type": "code",
   "execution_count": null,
   "metadata": {},
   "outputs": [],
   "source": []
  },
  {
   "cell_type": "code",
   "execution_count": null,
   "metadata": {},
   "outputs": [],
   "source": []
  },
  {
   "cell_type": "code",
   "execution_count": 7,
   "metadata": {},
   "outputs": [
    {
     "name": "stdout",
     "output_type": "stream",
     "text": [
      "{'doc': show mexican restaurents up north, 'text': 'show mexican restaurents up north', 'tokens': [<spacy_crfsuite.tokenizer.Token object at 0x11dcc9470>, <spacy_crfsuite.tokenizer.Token object at 0x11dcc9908>, <spacy_crfsuite.tokenizer.Token object at 0x11dcc9390>, <spacy_crfsuite.tokenizer.Token object at 0x11dcc9240>, <spacy_crfsuite.tokenizer.Token object at 0x11dcc92b0>, <spacy_crfsuite.tokenizer.Token object at 0x11dcc9828>]} [{'start': 5, 'end': 12, 'value': 'mexican', 'entity': 'cuisine', 'confidence': 0.46661000836822464}, {'start': 28, 'end': 33, 'value': 'north', 'entity': 'location', 'confidence': 0.7644682602370566}]\n"
     ]
    }
   ],
   "source": [
    "import spacy\n",
    "\n",
    "from spacy_crfsuite.tokenizer import SpacyTokenizer\n",
    "from spacy_crfsuite.dense_features import DenseFeatures\n",
    "\n",
    "def build_spacy_message(nlp, doc, use_dense_features=False):\n",
    "    tokenizer = SpacyTokenizer(nlp)\n",
    "    message = {\"doc\": doc, \"text\": doc.text}\n",
    "\n",
    "    tokens = tokenizer.tokenize(message, attribute=\"doc\")\n",
    "    tokenizer.add_cls_token(tokens)\n",
    "    message[\"tokens\"] = tokens\n",
    "\n",
    "    if use_dense_features:\n",
    "        dense_features = DenseFeatures(nlp)\n",
    "        text_dense_features = dense_features(message, attribute=\"doc\")\n",
    "        if len(text_dense_features) > 0:\n",
    "            message[\"text_dense_features\"] = text_dense_features\n",
    "\n",
    "    return message\n",
    "\n",
    "nlp = spacy.blank(\"en\")\n",
    "doc = nlp(\"show mexican restaurents up north\")\n",
    "\n",
    "message = build_spacy_message(nlp, doc)\n",
    "entities = crf_extractor.process(message)\n",
    "print(message, entities)"
   ]
  },
  {
   "cell_type": "code",
   "execution_count": null,
   "metadata": {},
   "outputs": [],
   "source": []
  },
  {
   "cell_type": "code",
   "execution_count": null,
   "metadata": {},
   "outputs": [],
   "source": []
  },
  {
   "cell_type": "code",
   "execution_count": null,
   "metadata": {},
   "outputs": [],
   "source": []
  },
  {
   "cell_type": "code",
   "execution_count": 9,
   "metadata": {},
   "outputs": [
    {
     "name": "stdout",
     "output_type": "stream",
     "text": [
      "mexican -- cuisine\n",
      "north -- location\n"
     ]
    }
   ],
   "source": [
    "import spacy\n",
    "\n",
    "from spacy_crfsuite import CRFEntityExtractor\n",
    "\n",
    "nlp = spacy.blank('en')\n",
    "pipe = CRFEntityExtractor(nlp, crf_extractor=crf_extractor)\n",
    "nlp.add_pipe(pipe)\n",
    "\n",
    "doc = nlp(\"show mexican restaurents up north\")\n",
    "for ent in doc.ents:\n",
    "    print(ent.text, \"--\", ent.label_)"
   ]
  },
  {
   "cell_type": "code",
   "execution_count": null,
   "metadata": {},
   "outputs": [],
   "source": []
  },
  {
   "cell_type": "code",
   "execution_count": null,
   "metadata": {},
   "outputs": [],
   "source": []
  },
  {
   "cell_type": "code",
   "execution_count": null,
   "metadata": {},
   "outputs": [],
   "source": []
  },
  {
   "cell_type": "code",
   "execution_count": null,
   "metadata": {},
   "outputs": [],
   "source": []
  },
  {
   "cell_type": "code",
   "execution_count": null,
   "metadata": {},
   "outputs": [],
   "source": []
  },
  {
   "cell_type": "code",
   "execution_count": null,
   "metadata": {},
   "outputs": [],
   "source": []
  },
  {
   "cell_type": "code",
   "execution_count": null,
   "metadata": {},
   "outputs": [],
   "source": []
  },
  {
   "cell_type": "code",
   "execution_count": null,
   "metadata": {},
   "outputs": [],
   "source": []
  }
 ],
 "metadata": {
  "kernelspec": {
   "display_name": "Python 3",
   "language": "python",
   "name": "python3"
  },
  "language_info": {
   "codemirror_mode": {
    "name": "ipython",
    "version": 3
   },
   "file_extension": ".py",
   "mimetype": "text/x-python",
   "name": "python",
   "nbconvert_exporter": "python",
   "pygments_lexer": "ipython3",
   "version": "3.6.9"
  }
 },
 "nbformat": 4,
 "nbformat_minor": 4
}
